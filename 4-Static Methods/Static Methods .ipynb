{
 "cells": [
  {
   "cell_type": "markdown",
   "metadata": {},
   "source": [
    "## Static Methods <a anchor = \"anchor\" id = 14></a>\n",
    "\n",
    "- It takes no parameters \n",
    "- Its bound to the class no the instance \n",
    "- It doesn't acess the properties of the class itself \n",
    "- <b>Usage:</b>\n",
    " - When you need a utility function that doesn't access any properties of a class but makes sense that it belongs to the class, we use static functions\n",
    " \n",
    " \n",
    " \n",
    " ### Instance Methods vs Class Methods vs Static Mehtods \n",
    "\n",
    "__Instance method:__ Used to access or modify the object state. If we use instance variables inside a method, such methods are called instance methods. It must have a self parameter to refer to the current object.\n",
    "\n",
    "__Class method:__ Used to access or modify the class state. In method implementation, if we use only class variables, then such type of methods we should declare as a class method.The class method has a cls parameter which refers to the class.\n",
    "\n",
    "__Static method:__ It is a general utility method that performs a task in isolation. Inside this method, we don’t use instance or class variable because this static method doesn’t take any parameters like self and cls. Simply, it is a method which does not have access to the class state. In other words, the method confines to itself and cannot change the properties of the class instance without any workaround.\n",
    "\n",
    "\n",
    "For more information please visit [Real Python](https://realpython.com/instance-class-and-static-methods-demystified/) "
   ]
  },
  {
   "cell_type": "code",
   "execution_count": 19,
   "metadata": {},
   "outputs": [],
   "source": [
    "#create a class called A \n",
    "class A(object):\n",
    "    def foo(self, x):\n",
    "        print(f\"executing foo({self}, {x})\")\n",
    "\n",
    "    @classmethod\n",
    "    def class_foo(cls, x):\n",
    "        print(f\"executing class_foo({cls}, {x})\")\n",
    "\n",
    "    @staticmethod\n",
    "    def static_foo(x):\n",
    "        print(f\"executing static_foo({x})\") "
   ]
  },
  {
   "cell_type": "markdown",
   "metadata": {},
   "source": [
    "Below is the usual way an object instance calls a method. The object instance, a, is implicitly passed as the first argument."
   ]
  },
  {
   "cell_type": "code",
   "execution_count": 20,
   "metadata": {},
   "outputs": [],
   "source": [
    "a = A()"
   ]
  },
  {
   "cell_type": "code",
   "execution_count": 21,
   "metadata": {},
   "outputs": [
    {
     "name": "stdout",
     "output_type": "stream",
     "text": [
      "executing foo(<__main__.A object at 0x00000235B00EF1F0>, 1)\n"
     ]
    }
   ],
   "source": [
    "a.foo(1)\n",
    "# executing foo(<__main__.A object at 0xb7dbef0c>, 1)"
   ]
  },
  {
   "cell_type": "markdown",
   "metadata": {},
   "source": [
    "__With classmethods,__ the class of the object instance is implicitly passed as the first argument instead of `self`"
   ]
  },
  {
   "cell_type": "code",
   "execution_count": 22,
   "metadata": {},
   "outputs": [
    {
     "name": "stdout",
     "output_type": "stream",
     "text": [
      "executing class_foo(<class '__main__.A'>, 1)\n"
     ]
    }
   ],
   "source": [
    "a.class_foo(1)\n",
    "# executing class_foo(<class '__main__.A'>, 1)"
   ]
  },
  {
   "cell_type": "markdown",
   "metadata": {},
   "source": [
    "You can also call `class_foo` using the class. In fact, if you define something to be a classmethod, it is probably because you intend to call it from the class rather than from a class instance. `A.foo(1)`would have raised a TypeError, but `A.class_foo(1)` works just fine:\n",
    "\n",
    "One use people have found for class methods is to create [inheritable alternative constructors](https://stackoverflow.com/a/1950927/190597).\n"
   ]
  },
  {
   "cell_type": "markdown",
   "metadata": {},
   "source": [
    "__With staticmethods,__ neither `self` (the object instance) nor `cls` (the class) is implicitly passed as the first argument. They behave like plain functions except that you can call them from an instance or the class:"
   ]
  },
  {
   "cell_type": "code",
   "execution_count": 24,
   "metadata": {},
   "outputs": [
    {
     "name": "stdout",
     "output_type": "stream",
     "text": [
      "executing static_foo(1)\n",
      "executing static_foo(hi)\n"
     ]
    }
   ],
   "source": [
    "a.static_foo(1)\n",
    "# executing static_foo(1)\n",
    "\n",
    "A.static_foo('hi')\n",
    "# executing static_foo(hi)"
   ]
  },
  {
   "cell_type": "markdown",
   "metadata": {},
   "source": [
    "- Staticmethods are used to group functions which have some logical connection with a class to the class.\n",
    "- We can see that static methods are restricted only in its input arguments\n",
    "- Static methods belongs to class and the object of the class"
   ]
  },
  {
   "cell_type": "markdown",
   "metadata": {},
   "source": [
    "## Ex1\n",
    "\n",
    "Create a class called math has static method which takes two number and return their product "
   ]
  },
  {
   "cell_type": "code",
   "execution_count": 49,
   "metadata": {},
   "outputs": [],
   "source": [
    "class Math:\n",
    "    \n",
    "    @staticmethod \n",
    "    def prod(one, two):\n",
    "        return one * two"
   ]
  },
  {
   "cell_type": "code",
   "execution_count": 50,
   "metadata": {},
   "outputs": [],
   "source": [
    "m = Math "
   ]
  },
  {
   "cell_type": "code",
   "execution_count": 51,
   "metadata": {},
   "outputs": [
    {
     "data": {
      "text/plain": [
       "12"
      ]
     },
     "execution_count": 51,
     "metadata": {},
     "output_type": "execute_result"
    }
   ],
   "source": [
    "#get the value using the insance of the class\n",
    "m.prod(3,4)"
   ]
  },
  {
   "cell_type": "code",
   "execution_count": 54,
   "metadata": {},
   "outputs": [
    {
     "data": {
      "text/plain": [
       "12"
      ]
     },
     "execution_count": 54,
     "metadata": {},
     "output_type": "execute_result"
    }
   ],
   "source": [
    "#get the value using the class itself \n",
    "Math.prod(3,4)"
   ]
  },
  {
   "cell_type": "markdown",
   "metadata": {},
   "source": [
    "## Ex2\n",
    "\n",
    "Create a class called OldPerson has a static method called Age which classify the old person brtween three classes: \n",
    "\n",
    " - the persons between the ages of 65 and 74 years classified as youngest-old \n",
    " - the persons between the ages of 75 and 84 years classified as middle-old \n",
    " - the persons have ages over 85 years, classified as oldest-old\n",
    " - otherwise, print not old person\n",
    " \n",
    "__print the type of the person for every condition__ "
   ]
  },
  {
   "cell_type": "code",
   "execution_count": 58,
   "metadata": {},
   "outputs": [],
   "source": [
    "class OldPerson:\n",
    "    \n",
    "    \n",
    "    @staticmethod\n",
    "    def Age(age):\n",
    "        \n",
    "        if(age >=  65 and age <= 74):\n",
    "            print(\"youngest-old\")\n",
    "        elif(age >= 75 and age <= 84):\n",
    "            print(\"middle-old\")\n",
    "        elif(age >= 85):\n",
    "            print(\"oldest-old\")\n",
    "        else:\n",
    "            print(\"Not old person\")"
   ]
  },
  {
   "cell_type": "code",
   "execution_count": 59,
   "metadata": {},
   "outputs": [
    {
     "name": "stdout",
     "output_type": "stream",
     "text": [
      "oldest-old\n"
     ]
    }
   ],
   "source": [
    "OldPerson.Age(85)"
   ]
  },
  {
   "cell_type": "code",
   "execution_count": 61,
   "metadata": {},
   "outputs": [
    {
     "name": "stdout",
     "output_type": "stream",
     "text": [
      "middle-old\n"
     ]
    }
   ],
   "source": [
    "OldPerson.Age(83)"
   ]
  },
  {
   "cell_type": "code",
   "execution_count": 62,
   "metadata": {},
   "outputs": [
    {
     "name": "stdout",
     "output_type": "stream",
     "text": [
      "Not old persons\n"
     ]
    }
   ],
   "source": [
    "OldPerson.Age(22)"
   ]
  },
  {
   "cell_type": "code",
   "execution_count": null,
   "metadata": {},
   "outputs": [],
   "source": []
  }
 ],
 "metadata": {
  "kernelspec": {
   "display_name": "Python 3",
   "language": "python",
   "name": "python3"
  },
  "language_info": {
   "codemirror_mode": {
    "name": "ipython",
    "version": 3
   },
   "file_extension": ".py",
   "mimetype": "text/x-python",
   "name": "python",
   "nbconvert_exporter": "python",
   "pygments_lexer": "ipython3",
   "version": "3.8.3"
  }
 },
 "nbformat": 4,
 "nbformat_minor": 4
}
