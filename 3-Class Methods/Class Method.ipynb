{
 "cells": [
  {
   "cell_type": "markdown",
   "metadata": {},
   "source": [
    "## Class Methods <a anchor = \"anchor\" id = 13></a>\n",
    "\n",
    "- Marked with @classmethod Decorator to flag it as class method\n",
    "- It takes Cls parameter (not slef) to point to the class not to the instnace \n",
    "- It doesn't require creation of class instance \n",
    "- <b>Usage:</b> \n",
    "  - When you want to do something with the class itself "
   ]
  },
  {
   "cell_type": "code",
   "execution_count": 31,
   "metadata": {},
   "outputs": [],
   "source": [
    "class Memeber:\n",
    "    \n",
    "    #class attributes\n",
    "    not_allowed_names = [\"hell\", \"baloot\"]\n",
    "    users_num = 0  #count the number of instances \n",
    "    \n",
    "    #class methods \n",
    "    @classmethod\n",
    "    def show_users_count(cls):\n",
    "        \n",
    "        print(f\"We have {cls.users_num} in our system\")\n",
    "    \n",
    "    \n",
    "    #instance attributes\n",
    "    def __init__(self,first_name, last_name):\n",
    "        self.first_name = first_name \n",
    "        self.last_name = last_name \n",
    "        Memeber.users_num += 1"
   ]
  },
  {
   "cell_type": "code",
   "execution_count": 32,
   "metadata": {},
   "outputs": [],
   "source": [
    "User_one = Memeber(\"fady\", \"kamal\")"
   ]
  },
  {
   "cell_type": "code",
   "execution_count": 33,
   "metadata": {},
   "outputs": [
    {
     "data": {
      "text/plain": [
       "1"
      ]
     },
     "execution_count": 33,
     "metadata": {},
     "output_type": "execute_result"
    }
   ],
   "source": [
    "Memeber.users_num"
   ]
  },
  {
   "cell_type": "code",
   "execution_count": 34,
   "metadata": {},
   "outputs": [],
   "source": [
    "user_two = Memeber(\"Kamal\",\"Naim\")"
   ]
  },
  {
   "cell_type": "code",
   "execution_count": 35,
   "metadata": {},
   "outputs": [
    {
     "data": {
      "text/plain": [
       "2"
      ]
     },
     "execution_count": 35,
     "metadata": {},
     "output_type": "execute_result"
    }
   ],
   "source": [
    "Memeber.users_num"
   ]
  },
  {
   "cell_type": "code",
   "execution_count": 36,
   "metadata": {},
   "outputs": [
    {
     "name": "stdout",
     "output_type": "stream",
     "text": [
      "We have 2 in our system\n"
     ]
    }
   ],
   "source": [
    "#Show the number of users in the system \n",
    "Memeber.show_users_count()"
   ]
  },
  {
   "cell_type": "markdown",
   "metadata": {},
   "source": [
    "## Ex\n",
    "\n",
    "Create a Vehicle class with\n",
    " - `instance attributes:` max_speed and mileage \n",
    " - `instance methods:` mile_to_km which converts the number of miles (mileage) to km and __return it__ \n",
    " - `class attributes: ` num_vehicles \n",
    " - `class methods: ` sold_vehicles_count which count the number of vehicles sold  and __print it__"
   ]
  },
  {
   "cell_type": "code",
   "execution_count": 48,
   "metadata": {},
   "outputs": [],
   "source": [
    "class Vehicle:\n",
    "    \n",
    "    #class attributes\n",
    "    num_vehicles = 0\n",
    "    \n",
    "    \n",
    "    #class methods \n",
    "    @classmethod\n",
    "    def sold_vehicles_count(cls):\n",
    "        print(f\"The number of sold vehicles: {cls.num_vehicles}\")\n",
    "        \n",
    "    \n",
    "    #instance attributes\n",
    "    def __init__(self,max_speed, mileage):\n",
    "        self.max_speed = max_speed\n",
    "        self.mileage = mileage\n",
    "        Vehicle.num_vehicles += 1\n",
    "        \n",
    "    \n",
    "    #instance methods \n",
    "    def mile_km(self):\n",
    "        return f\"The number miles in (km): {self.mileage *  1.60934} \""
   ]
  },
  {
   "cell_type": "code",
   "execution_count": 49,
   "metadata": {},
   "outputs": [],
   "source": [
    "#create two instances\n",
    "modelX = Vehicle(240,18)\n",
    "modelY = Vehicle(250,20)"
   ]
  },
  {
   "cell_type": "code",
   "execution_count": 50,
   "metadata": {},
   "outputs": [
    {
     "data": {
      "text/plain": [
       "2"
      ]
     },
     "execution_count": 50,
     "metadata": {},
     "output_type": "execute_result"
    }
   ],
   "source": [
    "#get the number of the sold vehicles using the class attributes \n",
    "Vehicle.num_vehicles"
   ]
  },
  {
   "cell_type": "code",
   "execution_count": 51,
   "metadata": {},
   "outputs": [
    {
     "name": "stdout",
     "output_type": "stream",
     "text": [
      "The number of sold vehicles: 2\n"
     ]
    }
   ],
   "source": [
    "#get the number of the sold vehicles using the class methods \n",
    "Vehicle.sold_vehicles_count()"
   ]
  }
 ],
 "metadata": {
  "kernelspec": {
   "display_name": "Python 3",
   "language": "python",
   "name": "python3"
  },
  "language_info": {
   "codemirror_mode": {
    "name": "ipython",
    "version": 3
   },
   "file_extension": ".py",
   "mimetype": "text/x-python",
   "name": "python",
   "nbconvert_exporter": "python",
   "pygments_lexer": "ipython3",
   "version": "3.8.3"
  }
 },
 "nbformat": 4,
 "nbformat_minor": 4
}
