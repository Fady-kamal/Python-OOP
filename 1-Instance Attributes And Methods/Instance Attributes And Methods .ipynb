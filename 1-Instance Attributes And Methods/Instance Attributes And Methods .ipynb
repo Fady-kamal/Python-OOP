{
 "cells": [
  {
   "cell_type": "markdown",
   "metadata": {},
   "source": [
    "##  Instance Attributes And Methods <a anchor = \"anchor\" id = 11></a>\n",
    "- <b>Self: </b> points to instance created from a class \n",
    "- <b>Instance Attributes: </b> defined inside the constructor \n",
    "- <b>Instance Methods: </b> take self parameter which point to instance created from a class\n",
    " - Instance methods can have more than one paramter like any function\n",
    " - Instance methods can freely access attributes and methods of the same object\n",
    " - Instance methods can access the class iteself"
   ]
  },
  {
   "cell_type": "code",
   "execution_count": 3,
   "metadata": {},
   "outputs": [],
   "source": [
    "class Memeber:\n",
    "    \n",
    "    def __init__(self): #to create instance from member class \n",
    "        \n",
    "        #Define the instance attributes here \n",
    "        self.name = \"osama\""
   ]
  },
  {
   "cell_type": "code",
   "execution_count": 5,
   "metadata": {},
   "outputs": [],
   "source": [
    "member_one = Memeber()"
   ]
  },
  {
   "cell_type": "code",
   "execution_count": 7,
   "metadata": {},
   "outputs": [
    {
     "name": "stdout",
     "output_type": "stream",
     "text": [
      "['__class__', '__delattr__', '__dict__', '__dir__', '__doc__', '__eq__', '__format__', '__ge__', '__getattribute__', '__gt__', '__hash__', '__init__', '__init_subclass__', '__le__', '__lt__', '__module__', '__ne__', '__new__', '__reduce__', '__reduce_ex__', '__repr__', '__setattr__', '__sizeof__', '__str__', '__subclasshook__', '__weakref__', 'name']\n"
     ]
    }
   ],
   "source": [
    "#get all the attributes and methods of our instance \n",
    "print(dir(member_one))"
   ]
  },
  {
   "cell_type": "code",
   "execution_count": 8,
   "metadata": {},
   "outputs": [
    {
     "data": {
      "text/plain": [
       "'osama'"
      ]
     },
     "execution_count": 8,
     "metadata": {},
     "output_type": "execute_result"
    }
   ],
   "source": [
    "#access out attributes \n",
    "member_one.name"
   ]
  },
  {
   "cell_type": "code",
   "execution_count": 10,
   "metadata": {},
   "outputs": [],
   "source": [
    "class Member:\n",
    "    \n",
    "    def __init__(self,Name):\n",
    "        \n",
    "        self.name  = Name"
   ]
  },
  {
   "cell_type": "code",
   "execution_count": 11,
   "metadata": {},
   "outputs": [],
   "source": [
    "member_one = Member(\"Fady\")"
   ]
  },
  {
   "cell_type": "code",
   "execution_count": 12,
   "metadata": {},
   "outputs": [
    {
     "name": "stdout",
     "output_type": "stream",
     "text": [
      "Fady\n"
     ]
    }
   ],
   "source": [
    "print(member_one.name)"
   ]
  },
  {
   "cell_type": "code",
   "execution_count": 13,
   "metadata": {},
   "outputs": [],
   "source": [
    "member_two  = Member(\"Sara\")\n"
   ]
  },
  {
   "cell_type": "code",
   "execution_count": 14,
   "metadata": {},
   "outputs": [
    {
     "data": {
      "text/plain": [
       "'Sara'"
      ]
     },
     "execution_count": 14,
     "metadata": {},
     "output_type": "execute_result"
    }
   ],
   "source": [
    "member_two.name"
   ]
  },
  {
   "cell_type": "markdown",
   "metadata": {},
   "source": [
    "## Ex1\n",
    "Create a Vehicle class with max_speed and mileage instance attributes"
   ]
  },
  {
   "cell_type": "code",
   "execution_count": 16,
   "metadata": {},
   "outputs": [],
   "source": [
    "class Vehicle:\n",
    "    \n",
    "    #instance attributes \n",
    "    def __init__(self,max_speed, mileage):\n",
    "        self.max_speed = max_speed\n",
    "        self.mileage = mileage "
   ]
  },
  {
   "cell_type": "code",
   "execution_count": 17,
   "metadata": {},
   "outputs": [],
   "source": [
    "inst = Vehicle(10,100)"
   ]
  },
  {
   "cell_type": "code",
   "execution_count": 21,
   "metadata": {},
   "outputs": [
    {
     "name": "stdout",
     "output_type": "stream",
     "text": [
      "The max speed: 10\n",
      "The mileage distance: 100\n"
     ]
    }
   ],
   "source": [
    "#Access the attributes \n",
    "print(f\"The max speed: {inst.max_speed}\\nThe mileage distance: {inst.mileage}\")"
   ]
  },
  {
   "cell_type": "code",
   "execution_count": 22,
   "metadata": {},
   "outputs": [
    {
     "name": "stdout",
     "output_type": "stream",
     "text": [
      "['__class__', '__delattr__', '__dict__', '__dir__', '__doc__', '__eq__', '__format__', '__ge__', '__getattribute__', '__gt__', '__hash__', '__init__', '__init_subclass__', '__le__', '__lt__', '__module__', '__ne__', '__new__', '__reduce__', '__reduce_ex__', '__repr__', '__setattr__', '__sizeof__', '__str__', '__subclasshook__', '__weakref__', 'max_speed', 'mileage']\n"
     ]
    }
   ],
   "source": [
    "#get the attributes and the methods of our instacne \n",
    "print(dir(inst))"
   ]
  },
  {
   "cell_type": "markdown",
   "metadata": {},
   "source": [
    "## Ex2 \n",
    "Extend the previous class with instance method called mile_to_km which converts the number of miles (mileage) to km"
   ]
  },
  {
   "cell_type": "code",
   "execution_count": 30,
   "metadata": {},
   "outputs": [],
   "source": [
    "class Vehicle:\n",
    "    \n",
    "    #instance attributes \n",
    "    def __init__(self,max_speed, mileage):\n",
    "        self.max_speed = max_speed\n",
    "        self.mileage = mileage \n",
    "        \n",
    "    def miles_to_km(self):\n",
    "        \n",
    "        return f\"The number of miles in km: {self.mileage * 1.60934}\""
   ]
  },
  {
   "cell_type": "code",
   "execution_count": 31,
   "metadata": {},
   "outputs": [
    {
     "name": "stdout",
     "output_type": "stream",
     "text": [
      "The max speed: 240\n",
      "The mileage distance: 18\n"
     ]
    }
   ],
   "source": [
    "modelX = Vehicle(240,18)\n",
    "\n",
    "#Access the attributes \n",
    "print(f\"The max speed: {modelX.max_speed}\\nThe mileage distance: {modelX.mileage}\")"
   ]
  },
  {
   "cell_type": "code",
   "execution_count": 32,
   "metadata": {},
   "outputs": [
    {
     "name": "stdout",
     "output_type": "stream",
     "text": [
      "The number of miles in km: 28.96812\n"
     ]
    }
   ],
   "source": [
    "print(modelX.miles_to_km())"
   ]
  },
  {
   "cell_type": "code",
   "execution_count": null,
   "metadata": {},
   "outputs": [],
   "source": []
  }
 ],
 "metadata": {
  "kernelspec": {
   "display_name": "Python 3",
   "language": "python",
   "name": "python3"
  },
  "language_info": {
   "codemirror_mode": {
    "name": "ipython",
    "version": 3
   },
   "file_extension": ".py",
   "mimetype": "text/x-python",
   "name": "python",
   "nbconvert_exporter": "python",
   "pygments_lexer": "ipython3",
   "version": "3.8.3"
  }
 },
 "nbformat": 4,
 "nbformat_minor": 4
}
